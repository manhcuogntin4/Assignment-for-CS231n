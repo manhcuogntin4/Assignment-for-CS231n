{
 "cells": [
  {
   "cell_type": "code",
   "execution_count": 50,
   "metadata": {
    "collapsed": true
   },
   "outputs": [],
   "source": [
    "import numpy as np"
   ]
  },
  {
   "cell_type": "code",
   "execution_count": 51,
   "metadata": {
    "collapsed": true
   },
   "outputs": [],
   "source": [
    "D=np.random.randn(1000,500)"
   ]
  },
  {
   "cell_type": "code",
   "execution_count": 52,
   "metadata": {
    "collapsed": false
   },
   "outputs": [
    {
     "data": {
      "text/plain": [
       "array([[ 1.09345965,  0.71515719, -0.55850423, ...,  0.74146901,\n",
       "         1.18350723, -0.66016235],\n",
       "       [ 1.98614558,  0.45316001, -1.09081697, ...,  0.46135328,\n",
       "        -0.40709163,  1.61135884],\n",
       "       [-0.75947223, -1.31913812, -1.19694796, ...,  0.38124694,\n",
       "         0.25008281,  0.38911698],\n",
       "       ...,\n",
       "       [ 0.4947843 , -0.13258838,  1.05166556, ...,  0.41881329,\n",
       "         0.01081266, -2.52244865],\n",
       "       [-1.53398955, -0.75151729,  2.08223338, ..., -1.40762113,\n",
       "        -2.97891753,  1.75690692],\n",
       "       [ 1.07049658,  0.74862411,  0.08505672, ...,  0.0504498 ,\n",
       "         0.56903187,  0.11347237]])"
      ]
     },
     "execution_count": 52,
     "metadata": {},
     "output_type": "execute_result"
    }
   ],
   "source": [
    "D"
   ]
  },
  {
   "cell_type": "code",
   "execution_count": 53,
   "metadata": {
    "collapsed": false
   },
   "outputs": [
    {
     "data": {
      "text/plain": [
       "<function max>"
      ]
     },
     "execution_count": 53,
     "metadata": {},
     "output_type": "execute_result"
    }
   ],
   "source": [
    "D.max"
   ]
  },
  {
   "cell_type": "code",
   "execution_count": 54,
   "metadata": {
    "collapsed": false
   },
   "outputs": [
    {
     "data": {
      "text/plain": [
       "5.20355218186281"
      ]
     },
     "execution_count": 54,
     "metadata": {},
     "output_type": "execute_result"
    }
   ],
   "source": [
    "D.max()"
   ]
  },
  {
   "cell_type": "code",
   "execution_count": 55,
   "metadata": {
    "collapsed": false
   },
   "outputs": [
    {
     "data": {
      "text/plain": [
       "-4.6217873459232806"
      ]
     },
     "execution_count": 55,
     "metadata": {},
     "output_type": "execute_result"
    }
   ],
   "source": [
    "D.min()"
   ]
  },
  {
   "cell_type": "code",
   "execution_count": 56,
   "metadata": {
    "collapsed": false
   },
   "outputs": [
    {
     "data": {
      "text/plain": [
       "0.0019479858492530626"
      ]
     },
     "execution_count": 56,
     "metadata": {},
     "output_type": "execute_result"
    }
   ],
   "source": [
    "D.mean()"
   ]
  },
  {
   "cell_type": "code",
   "execution_count": 57,
   "metadata": {
    "collapsed": false
   },
   "outputs": [
    {
     "data": {
      "text/plain": [
       "0.9998975163127927"
      ]
     },
     "execution_count": 57,
     "metadata": {},
     "output_type": "execute_result"
    }
   ],
   "source": [
    "D.std()"
   ]
  },
  {
   "cell_type": "markdown",
   "metadata": {},
   "source": [
    "D is a Gaussian distribution"
   ]
  },
  {
   "cell_type": "code",
   "execution_count": 58,
   "metadata": {
    "collapsed": true
   },
   "outputs": [],
   "source": [
    "Hidden_layer_sizes=[500]*10"
   ]
  },
  {
   "cell_type": "code",
   "execution_count": 59,
   "metadata": {
    "collapsed": false
   },
   "outputs": [
    {
     "data": {
      "text/plain": [
       "[500, 500, 500, 500, 500, 500, 500, 500, 500, 500]"
      ]
     },
     "execution_count": 59,
     "metadata": {},
     "output_type": "execute_result"
    }
   ],
   "source": [
    "Hidden_layer_sizes"
   ]
  },
  {
   "cell_type": "code",
   "execution_count": 60,
   "metadata": {
    "collapsed": true
   },
   "outputs": [],
   "source": [
    "a=[500]"
   ]
  },
  {
   "cell_type": "code",
   "execution_count": 61,
   "metadata": {
    "collapsed": false
   },
   "outputs": [
    {
     "data": {
      "text/plain": [
       "[500]"
      ]
     },
     "execution_count": 61,
     "metadata": {},
     "output_type": "execute_result"
    }
   ],
   "source": [
    "a"
   ]
  },
  {
   "cell_type": "code",
   "execution_count": 62,
   "metadata": {
    "collapsed": true
   },
   "outputs": [],
   "source": [
    "b=np.array([500])"
   ]
  },
  {
   "cell_type": "code",
   "execution_count": 63,
   "metadata": {
    "collapsed": false
   },
   "outputs": [
    {
     "data": {
      "text/plain": [
       "array([500])"
      ]
     },
     "execution_count": 63,
     "metadata": {},
     "output_type": "execute_result"
    }
   ],
   "source": [
    "b"
   ]
  },
  {
   "cell_type": "code",
   "execution_count": 64,
   "metadata": {
    "collapsed": false
   },
   "outputs": [
    {
     "data": {
      "text/plain": [
       "array([5000])"
      ]
     },
     "execution_count": 64,
     "metadata": {},
     "output_type": "execute_result"
    }
   ],
   "source": [
    "b*10"
   ]
  },
  {
   "cell_type": "code",
   "execution_count": 81,
   "metadata": {
    "collapsed": true
   },
   "outputs": [],
   "source": [
    "nonlinears=['relu']*len(Hidden_layer_sizes)"
   ]
  },
  {
   "cell_type": "code",
   "execution_count": 82,
   "metadata": {
    "collapsed": false
   },
   "outputs": [
    {
     "data": {
      "text/plain": [
       "['relu',\n",
       " 'relu',\n",
       " 'relu',\n",
       " 'relu',\n",
       " 'relu',\n",
       " 'relu',\n",
       " 'relu',\n",
       " 'relu',\n",
       " 'relu',\n",
       " 'relu']"
      ]
     },
     "execution_count": 82,
     "metadata": {},
     "output_type": "execute_result"
    }
   ],
   "source": [
    "nonlinears"
   ]
  },
  {
   "cell_type": "code",
   "execution_count": 89,
   "metadata": {
    "collapsed": true
   },
   "outputs": [],
   "source": [
    "act={'relu':lambda x:np.maximum(0,x), 'tanh':lambda x:np.tanh(x)}"
   ]
  },
  {
   "cell_type": "code",
   "execution_count": 90,
   "metadata": {
    "collapsed": false
   },
   "outputs": [
    {
     "data": {
      "text/plain": [
       "{'relu': <function __main__.<lambda>>, 'tanh': <function __main__.<lambda>>}"
      ]
     },
     "execution_count": 90,
     "metadata": {},
     "output_type": "execute_result"
    }
   ],
   "source": [
    "act"
   ]
  },
  {
   "cell_type": "code",
   "execution_count": 91,
   "metadata": {
    "collapsed": true
   },
   "outputs": [],
   "source": [
    "Hs={}"
   ]
  },
  {
   "cell_type": "code",
   "execution_count": 92,
   "metadata": {
    "collapsed": false
   },
   "outputs": [
    {
     "name": "stdout",
     "output_type": "stream",
     "text": [
      "[[0.3064957  0.90554875 0.40769671 ... 0.         0.28951837 1.43938198]\n",
      " [0.         0.28550787 0.07626167 ... 0.         0.60601845 0.8397528 ]\n",
      " [1.43417772 0.25074194 1.11892809 ... 0.         1.97404624 0.76941926]\n",
      " ...\n",
      " [0.49753815 0.30497614 0.9351975  ... 1.28255203 0.         0.13960994]\n",
      " [0.         1.4104925  0.47350841 ... 0.86046546 1.30135835 0.        ]\n",
      " [0.26950829 1.61006443 0.         ... 1.32318096 1.8005564  0.        ]]\n",
      "[[0.         0.         0.38382514 ... 0.         1.01480219 0.00567617]\n",
      " [0.         0.         0.         ... 0.         0.         0.2969825 ]\n",
      " [0.         0.         0.         ... 0.         0.52389656 0.        ]\n",
      " ...\n",
      " [0.         0.55651934 0.         ... 0.54954546 0.66553727 0.96198157]\n",
      " [0.36753999 0.18117686 0.54338945 ... 0.3156696  1.49187177 0.        ]\n",
      " [0.         0.         0.39430441 ... 0.33770095 0.90814836 0.35810379]]\n",
      "[[0.         0.         0.         ... 0.         0.         0.24988436]\n",
      " [0.15122456 0.         0.06429126 ... 0.         0.         0.        ]\n",
      " [0.61627454 0.3122838  0.         ... 0.         0.00730189 0.33156885]\n",
      " ...\n",
      " [0.1327831  0.         0.         ... 0.         0.56211555 0.06992039]\n",
      " [0.         0.         0.         ... 0.         0.46867247 0.45699893]\n",
      " [0.48205394 0.         0.14102968 ... 0.         0.         0.48668328]]\n",
      "[[0.         0.04416678 0.34533296 ... 0.         0.1447536  0.        ]\n",
      " [0.         0.0387307  0.16797643 ... 0.         0.28841166 0.        ]\n",
      " [0.         0.         0.54611141 ... 0.         0.49742862 0.        ]\n",
      " ...\n",
      " [0.         0.         0.29555984 ... 0.         0.12490083 0.        ]\n",
      " [0.         0.         0.51057268 ... 0.         0.30959625 0.        ]\n",
      " [0.00962967 0.00200893 0.16759965 ... 0.         0.21099596 0.        ]]\n",
      "[[0.04228102 0.16410199 0.         ... 0.         0.         0.        ]\n",
      " [0.1408984  0.04342764 0.         ... 0.         0.         0.        ]\n",
      " [0.         0.12918903 0.         ... 0.         0.         0.        ]\n",
      " ...\n",
      " [0.         0.24485862 0.08379052 ... 0.07524736 0.         0.08325043]\n",
      " [0.12352234 0.30736655 0.         ... 0.         0.         0.        ]\n",
      " [0.10803378 0.21649285 0.         ... 0.08373247 0.         0.12514438]]\n",
      "[[0.         0.13789241 0.24358384 ... 0.18757571 0.21188182 0.1804453 ]\n",
      " [0.         0.         0.26488825 ... 0.         0.23578751 0.09116232]\n",
      " [0.         0.08038099 0.34074867 ... 0.02144896 0.13142697 0.09741699]\n",
      " ...\n",
      " [0.         0.04650543 0.30282046 ... 0.09445403 0.24780868 0.2584936 ]\n",
      " [0.         0.00356853 0.22931453 ... 0.04558203 0.36822193 0.08860952]\n",
      " [0.         0.         0.35045644 ... 0.05905496 0.28137823 0.15653987]]\n",
      "[[0.         0.         0.01235842 ... 0.         0.10656541 0.        ]\n",
      " [0.         0.         0.         ... 0.         0.12775857 0.        ]\n",
      " [0.         0.         0.         ... 0.         0.13494322 0.        ]\n",
      " ...\n",
      " [0.         0.02022788 0.         ... 0.         0.14680675 0.        ]\n",
      " [0.         0.         0.         ... 0.00477941 0.2073191  0.        ]\n",
      " [0.         0.         0.         ... 0.02722967 0.18826565 0.        ]]\n",
      "[[0.05334079 0.05203489 0.         ... 0.0021173  0.04879431 0.10322783]\n",
      " [0.06678865 0.         0.         ... 0.05046257 0.         0.06433767]\n",
      " [0.06730239 0.05367261 0.01037271 ... 0.0112287  0.         0.00503575]\n",
      " ...\n",
      " [0.03166729 0.09077174 0.00380398 ... 0.         0.006563   0.        ]\n",
      " [0.12041114 0.02343804 0.         ... 0.01206315 0.01986209 0.10522187]\n",
      " [0.09144237 0.03439824 0.         ... 0.         0.0130059  0.08274138]]\n",
      "[[0.         0.10482251 0.03607254 ... 0.         0.01645598 0.        ]\n",
      " [0.         0.07972018 0.09475669 ... 0.         0.05627874 0.03614009]\n",
      " [0.         0.16679556 0.07018518 ... 0.         0.03091463 0.04250962]\n",
      " ...\n",
      " [0.         0.13217723 0.05365987 ... 0.00589559 0.02487277 0.        ]\n",
      " [0.         0.17096484 0.07305325 ... 0.         0.02602139 0.        ]\n",
      " [0.         0.09166676 0.07627126 ... 0.         0.05161803 0.00667853]]\n",
      "[[0.         0.01854834 0.         ... 0.02011068 0.00838103 0.        ]\n",
      " [0.         0.01197676 0.         ... 0.01554579 0.00903035 0.        ]\n",
      " [0.         0.03050101 0.         ... 0.02616306 0.00221998 0.        ]\n",
      " ...\n",
      " [0.         0.00634688 0.         ... 0.02702806 0.         0.        ]\n",
      " [0.         0.         0.         ... 0.         0.         0.        ]\n",
      " [0.         0.02221682 0.         ... 0.02553034 0.00619754 0.        ]]\n"
     ]
    }
   ],
   "source": [
    "import math\n",
    "for i in xrange(len(Hidden_layer_sizes)):\n",
    "    X=D if i==0 else Hs[i-1]\n",
    "    fan_in=X.shape[1]\n",
    "    fan_out=Hidden_layer_sizes[i]\n",
    "    W=np.random.randn(fan_in,fan_out)/math.sqrt(fan_in)\n",
    "    H=np.dot(X,W)\n",
    "    #print H[:10]\n",
    "    H=act[nonlinears[i]](H)\n",
    "    #print(act[nonlinears[i]](H))\n",
    "    Hs[i]=H\n",
    "    print Hs[i][:10]"
   ]
  },
  {
   "cell_type": "code",
   "execution_count": 93,
   "metadata": {
    "collapsed": false
   },
   "outputs": [
    {
     "name": "stdout",
     "output_type": "stream",
     "text": [
      "input layer mean 0.001948 and std 0.999898\n"
     ]
    }
   ],
   "source": [
    "print(\"input layer mean %f and std %f\" %(np.mean(D), np.std(D)))"
   ]
  },
  {
   "cell_type": "code",
   "execution_count": 94,
   "metadata": {
    "collapsed": false
   },
   "outputs": [],
   "source": [
    "layer_means=[np.mean(H) for i,H in Hs.items()]\n",
    "layer_stds=[np.std(H) for i, H in Hs.items()]"
   ]
  },
  {
   "cell_type": "code",
   "execution_count": 95,
   "metadata": {
    "collapsed": false
   },
   "outputs": [
    {
     "name": "stdout",
     "output_type": "stream",
     "text": [
      "Hidden layer 1 had mean 0.398389 and std 0.583268\n",
      "Hidden layer 2 had mean 0.285865 and std 0.415999\n",
      "Hidden layer 3 had mean 0.215486 and std 0.296401\n",
      "Hidden layer 4 had mean 0.134133 and std 0.209728\n",
      "Hidden layer 5 had mean 0.098119 and std 0.143140\n",
      "Hidden layer 6 had mean 0.066536 and std 0.100661\n",
      "Hidden layer 7 had mean 0.045825 and std 0.067274\n",
      "Hidden layer 8 had mean 0.032170 and std 0.046282\n",
      "Hidden layer 9 had mean 0.023319 and std 0.033360\n",
      "Hidden layer 10 had mean 0.015628 and std 0.022737\n"
     ]
    }
   ],
   "source": [
    "for i,H in Hs.items():\n",
    "    print('Hidden layer %d had mean %f and std %f' %(i+1,layer_means[i],layer_stds[i]))"
   ]
  },
  {
   "cell_type": "code",
   "execution_count": 96,
   "metadata": {
    "collapsed": false
   },
   "outputs": [
    {
     "data": {
      "text/plain": [
       "<matplotlib.figure.Figure at 0x7fcae3245110>"
      ]
     },
     "execution_count": 96,
     "metadata": {},
     "output_type": "execute_result"
    },
    {
     "data": {
      "text/plain": [
       "<matplotlib.figure.Figure at 0x7fcae3245110>"
      ]
     },
     "metadata": {},
     "output_type": "display_data"
    }
   ],
   "source": [
    "import matplotlib\n",
    "\n",
    "import matplotlib.pyplot as plt\n",
    "%matplotlib inline\n",
    "plt.figure()"
   ]
  },
  {
   "cell_type": "code",
   "execution_count": 97,
   "metadata": {
    "collapsed": false
   },
   "outputs": [
    {
     "data": {
      "text/plain": [
       "[<matplotlib.lines.Line2D at 0x7fcae3fede10>]"
      ]
     },
     "execution_count": 97,
     "metadata": {},
     "output_type": "execute_result"
    },
    {
     "data": {
      "image/png": "[encoded data removed]",
      "text/plain": [
       "<matplotlib.figure.Figure at 0x7fcae43eb610>"
      ]
     },
     "metadata": {},
     "output_type": "display_data"
    }
   ],
   "source": [
    "plt.subplot(121)\n",
    "plt.plot(Hs.keys(),layer_means,'ob-')\n",
    "plt.title('layer mean')\n",
    "plt.subplot(122)\n",
    "plt.plot(Hs.keys(),layer_stds,'or-')"
   ]
  },
  {
   "cell_type": "code",
   "execution_count": 98,
   "metadata": {
    "collapsed": false
   },
   "outputs": [
    {
     "data": {
      "image/png": "[encoded data removed]",
      "text/plain": [
       "<matplotlib.figure.Figure at 0x7fcae3631dd0>"
      ]
     },
     "metadata": {},
     "output_type": "display_data"
    }
   ],
   "source": [
    "plt.figure()\n",
    "for i,H in Hs.items():\n",
    "    plt.subplot(1,len(Hs),i+1)\n",
    "    plt.hist(H.ravel(),30,range=(-1,1))"
   ]
  },
  {
   "cell_type": "code",
   "execution_count": null,
   "metadata": {
    "collapsed": true
   },
   "outputs": [],
   "source": []
  },
  {
   "cell_type": "code",
   "execution_count": null,
   "metadata": {
    "collapsed": true
   },
   "outputs": [],
   "source": []
  }
 ],
 "metadata": {
  "anaconda-cloud": {},
  "kernelspec": {
   "display_name": "Python [default]",
   "language": "python",
   "name": "python2"
  },
  "language_info": {
   "codemirror_mode": {
    "name": "ipython",
    "version": 2
   },
   "file_extension": ".py",
   "mimetype": "text/x-python",
   "name": "python",
   "nbconvert_exporter": "python",
   "pygments_lexer": "ipython2",
   "version": "2.7.12"
  }
 },
 "nbformat": 4,
 "nbformat_minor": 1
}
